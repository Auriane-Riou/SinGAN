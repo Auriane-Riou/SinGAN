{
 "cells": [
  {
   "cell_type": "code",
   "execution_count": 5,
   "metadata": {
    "id": "BU8fG2YJxVG2"
   },
   "outputs": [],
   "source": [
    "from google.colab import files"
   ]
  },
  {
   "cell_type": "code",
   "execution_count": null,
   "metadata": {
    "id": "Dx7hMvvfbmS7"
   },
   "outputs": [],
   "source": [
    "#!rm -r ../SinGAN"
   ]
  },
  {
   "cell_type": "code",
   "execution_count": 1,
   "metadata": {
    "colab": {
     "base_uri": "https://localhost:8080/"
    },
    "id": "tftIxrVI_V2h",
    "outputId": "653ae755-3e59-4335-8fc3-b3783b709f12"
   },
   "outputs": [
    {
     "name": "stdout",
     "output_type": "stream",
     "text": [
      "Cloning into 'SinGAN'...\n",
      "remote: Enumerating objects: 228, done.\u001b[K\n",
      "remote: Counting objects: 100% (228/228), done.\u001b[K\n",
      "remote: Compressing objects: 100% (179/179), done.\u001b[K\n",
      "remote: Total 518 (delta 77), reused 195 (delta 46), pack-reused 290\u001b[K\n",
      "Receiving objects: 100% (518/518), 120.81 MiB | 44.77 MiB/s, done.\n",
      "Resolving deltas: 100% (112/112), done.\n"
     ]
    }
   ],
   "source": [
    "!git clone -b test_inpainting https://github.com/Auriane-Riou/SinGAN\n",
    "#!git clone https://github.com/Auriane-Riou/SinGAN/tree/test_inpainting"
   ]
  },
  {
   "cell_type": "code",
   "execution_count": null,
   "metadata": {
    "colab": {
     "base_uri": "https://localhost:8080/"
    },
    "id": "d9WLlmZM4YsQ",
    "outputId": "e1a6c65b-a69c-4ae5-a84d-f5877d8bcb5f"
   },
   "outputs": [
    {
     "name": "stdout",
     "output_type": "stream",
     "text": [
      "sample_data  SinGAN\n"
     ]
    }
   ],
   "source": [
    "!ls"
   ]
  },
  {
   "cell_type": "code",
   "execution_count": 2,
   "metadata": {
    "colab": {
     "base_uri": "https://localhost:8080/"
    },
    "id": "c4FjJDMerFyL",
    "outputId": "c1a8e94c-955f-4134-b5ae-ca654c052a35"
   },
   "outputs": [
    {
     "name": "stdout",
     "output_type": "stream",
     "text": [
      "/content/SinGAN\n"
     ]
    }
   ],
   "source": [
    "%cd /content/SinGAN/"
   ]
  },
  {
   "cell_type": "code",
   "execution_count": null,
   "metadata": {
    "colab": {
     "base_uri": "https://localhost:8080/"
    },
    "id": "l8eFA3Mrd_s8",
    "outputId": "4f867ba0-77b7-43f0-92cb-39513e7a5689"
   },
   "outputs": [
    {
     "name": "stdout",
     "output_type": "stream",
     "text": [
      "animation.py\t  LICENSE.txt\t     SIFID\n",
      "config.py\t  main_train.py      SIFID.npy\n",
      "config.pyc\t  Output\t     SinGAN\n",
      "Downloads\t  Output.zip\t     SinGAN_results_reproduction.ipynb\n",
      "editing.py\t  paint2image.py     SR.py\n",
      "harmonization.py  __pycache__\t     test_inpainting.py\n",
      "imgs\t\t  random_samples.py  TrainedModels\n",
      "Input\t\t  requirements.txt   TrainedModels.zip\n"
     ]
    }
   ],
   "source": [
    "!ls"
   ]
  },
  {
   "cell_type": "code",
   "execution_count": 3,
   "metadata": {
    "colab": {
     "base_uri": "https://localhost:8080/"
    },
    "id": "44J8_QngQx0l",
    "outputId": "a19212e1-0ae1-4006-d83b-dc03b7b7dd3f"
   },
   "outputs": [
    {
     "name": "stdout",
     "output_type": "stream",
     "text": [
      "Collecting torch==1.4.0\n",
      "\u001b[?25l  Downloading https://files.pythonhosted.org/packages/24/19/4804aea17cd136f1705a5e98a00618cb8f6ccc375ad8bfa437408e09d058/torch-1.4.0-cp36-cp36m-manylinux1_x86_64.whl (753.4MB)\n",
      "\u001b[K     |████████████████████████████████| 753.4MB 21kB/s \n",
      "\u001b[?25hCollecting torchvision==0.5.0\n",
      "\u001b[?25l  Downloading https://files.pythonhosted.org/packages/7e/90/6141bf41f5655c78e24f40f710fdd4f8a8aff6c8b7c6f0328240f649bdbe/torchvision-0.5.0-cp36-cp36m-manylinux1_x86_64.whl (4.0MB)\n",
      "\u001b[K     |████████████████████████████████| 4.0MB 49.3MB/s \n",
      "\u001b[?25hRequirement already satisfied: numpy in /usr/local/lib/python3.6/dist-packages (from torchvision==0.5.0) (1.18.5)\n",
      "Requirement already satisfied: pillow>=4.1.1 in /usr/local/lib/python3.6/dist-packages (from torchvision==0.5.0) (7.0.0)\n",
      "Requirement already satisfied: six in /usr/local/lib/python3.6/dist-packages (from torchvision==0.5.0) (1.15.0)\n",
      "Installing collected packages: torch, torchvision\n",
      "  Found existing installation: torch 1.7.0+cu101\n",
      "    Uninstalling torch-1.7.0+cu101:\n",
      "      Successfully uninstalled torch-1.7.0+cu101\n",
      "  Found existing installation: torchvision 0.8.1+cu101\n",
      "    Uninstalling torchvision-0.8.1+cu101:\n",
      "      Successfully uninstalled torchvision-0.8.1+cu101\n",
      "Successfully installed torch-1.4.0 torchvision-0.5.0\n"
     ]
    }
   ],
   "source": [
    "!pip install torch==1.4.0 torchvision==0.5.0"
   ]
  },
  {
   "cell_type": "code",
   "execution_count": 4,
   "metadata": {
    "colab": {
     "base_uri": "https://localhost:8080/"
    },
    "id": "jgNF_BAKSzg-",
    "outputId": "54df6f1b-6486-48de-f1a2-5f9ee3dff727"
   },
   "outputs": [
    {
     "name": "stdout",
     "output_type": "stream",
     "text": [
      "Random Seed:  6557\n",
      "Downloading: \"https://download.pytorch.org/models/maskrcnn_resnet50_fpn_coco-bf2d0c1e.pth\" to /root/.cache/torch/checkpoints/maskrcnn_resnet50_fpn_coco-bf2d0c1e.pth\n",
      "100% 170M/170M [00:04<00:00, 43.7MB/s]\n",
      "Start of person mask computing for video\n",
      "End of person mask computing for video\n",
      "Start of training\n",
      "Namespace(Dsteps=3, Gsteps=3, alpha=10, beta1=0.5, gamma=0.1, inpainting=True, input_dir='Input/Videos/kj', input_name='kj_0.png', ker_size=3, lambda_grad=0.1, lr_d=0.0005, lr_g=0.0005, manualSeed=None, max_size=250, min_nfc=32, min_size=25, mode='train', nc_im=3, nc_z=3, netD='', netG='', nfc=32, niter=2000, noise_amp=0.1, not_cuda=0, num_layer=5, out='Output', padd_size=0, ref_dir='Input/Inpainting/Videos/kj', scale_factor=0.75, stride=1)\n",
      "Random Seed:  4904\n",
      "Namespace(Dsteps=3, Gsteps=3, alpha=10, beta1=0.5, device=device(type='cuda', index=0), gamma=0.1, inpainting=True, input_dir='Input/Videos/kj', input_name='kj_0.png', ker_size=3, lambda_grad=0.1, lr_d=0.0005, lr_g=0.0005, manualSeed=4904, max_size=250, min_nfc=32, min_nfc_init=32, min_size=25, mode='train', nc_im=3, nc_z=3, netD='', netG='', nfc=32, nfc_init=32, niter=2000, niter_init=2000, noise_amp=0.1, noise_amp_init=0.1, not_cuda=0, num_layer=5, out='Output', out_='TrainedModels/kj_0/scale_factor=0.750000/', padd_size=0, ref_dir='Input/Inpainting/Videos/kj', scale_factor=0.75, scale_factor_init=0.75, stride=1)\n",
      "trained model already exist\n",
      "End of training\n",
      "Inpainting of image 0\n",
      "Random Seed:  9702\n",
      "Inpainting of image 1\n",
      "Random Seed:  5841\n",
      "Inpainting of image 2\n",
      "Random Seed:  9719\n",
      "Inpainting of image 3\n",
      "Random Seed:  4787\n",
      "Inpainting of image 4\n",
      "Random Seed:  1363\n",
      "Inpainting of image 5\n",
      "Random Seed:  3217\n",
      "Inpainting of image 6\n",
      "Random Seed:  9054\n",
      "Inpainting of image 7\n",
      "Random Seed:  6702\n",
      "Inpainting of image 8\n",
      "Random Seed:  3570\n",
      "Inpainting of image 9\n",
      "Random Seed:  347\n",
      "Inpainting of image 10\n",
      "Random Seed:  5739\n",
      "Inpainting of image 11\n",
      "Random Seed:  1202\n",
      "Inpainting of image 12\n",
      "Random Seed:  5092\n",
      "Inpainting of image 13\n",
      "Random Seed:  3912\n",
      "Inpainting of image 14\n",
      "Random Seed:  7585\n",
      "Inpainting of image 15\n",
      "Random Seed:  6585\n",
      "Inpainting of image 16\n",
      "Random Seed:  7413\n",
      "Inpainting of image 17\n",
      "Random Seed:  1938\n",
      "Inpainting of image 18\n",
      "Random Seed:  8477\n",
      "Inpainting of image 19\n",
      "Random Seed:  4534\n",
      "Inpainting of image 20\n",
      "Random Seed:  9439\n",
      "Inpainting of image 21\n",
      "Random Seed:  6210\n",
      "Inpainting of image 22\n",
      "Random Seed:  1686\n",
      "Inpainting of image 23\n",
      "Random Seed:  3479\n",
      "Inpainting of image 24\n",
      "Random Seed:  3633\n",
      "Inpainting of image 25\n",
      "Random Seed:  4602\n",
      "Inpainting of image 26\n",
      "Random Seed:  9633\n",
      "Inpainting of image 27\n",
      "Random Seed:  2103\n",
      "Inpainting of image 28\n",
      "Random Seed:  1312\n",
      "Inpainting of image 29\n",
      "Random Seed:  9118\n",
      "Inpainting of image 30\n",
      "Random Seed:  7946\n",
      "Inpainting of image 31\n",
      "Random Seed:  3203\n",
      "Inpainting of image 32\n",
      "Random Seed:  8573\n",
      "Inpainting of image 33\n",
      "Random Seed:  3612\n",
      "Inpainting of image 34\n",
      "Random Seed:  3085\n",
      "Inpainting of image 35\n",
      "Random Seed:  99\n",
      "Inpainting of image 36\n",
      "Random Seed:  6619\n",
      "Inpainting of image 37\n",
      "Random Seed:  4324\n",
      "Inpainting of image 38\n",
      "Random Seed:  2791\n",
      "Inpainting of image 39\n",
      "Random Seed:  9886\n",
      "Inpainting of image 40\n",
      "Random Seed:  4591\n",
      "Inpainting of image 41\n",
      "Random Seed:  4940\n",
      "Inpainting of image 42\n",
      "Random Seed:  4501\n",
      "Inpainting of image 43\n",
      "Random Seed:  2322\n",
      "Inpainting of image 44\n",
      "Random Seed:  1384\n",
      "Inpainting of image 45\n",
      "Random Seed:  5100\n",
      "Inpainting of image 46\n",
      "Random Seed:  8761\n",
      "Inpainting of image 47\n",
      "Random Seed:  5002\n",
      "Inpainting of image 48\n",
      "Random Seed:  4189\n",
      "Inpainting of image 49\n",
      "Random Seed:  8237\n",
      "Inpainting of image 50\n",
      "Random Seed:  9053\n",
      "Inpainting of image 51\n",
      "Random Seed:  5945\n",
      "Inpainting of image 52\n",
      "Random Seed:  4448\n",
      "Inpainting of image 53\n",
      "Random Seed:  1595\n",
      "Inpainting of image 54\n",
      "Random Seed:  3980\n",
      "Inpainting of image 55\n",
      "Random Seed:  2291\n",
      "Inpainting of image 56\n",
      "Random Seed:  1105\n",
      "Inpainting of image 57\n",
      "Random Seed:  361\n",
      "Inpainting of image 58\n",
      "Random Seed:  2136\n",
      "Inpainting of image 59\n",
      "Random Seed:  2760\n",
      "Inpainting of image 60\n",
      "Random Seed:  3753\n",
      "Inpainting of image 61\n",
      "Random Seed:  6994\n",
      "Inpainting of image 62\n",
      "Random Seed:  2268\n",
      "Inpainting of image 63\n",
      "Random Seed:  2774\n",
      "Inpainting of image 64\n",
      "Random Seed:  9543\n",
      "Inpainting of image 65\n",
      "Random Seed:  255\n",
      "Inpainting of image 66\n",
      "Random Seed:  907\n",
      "Inpainting of image 67\n",
      "Random Seed:  6600\n",
      "Inpainting of image 68\n",
      "Random Seed:  7122\n",
      "Inpainting of image 69\n",
      "Random Seed:  9928\n",
      "Inpainting of image 70\n",
      "Random Seed:  8789\n",
      "Inpainting of image 71\n",
      "Random Seed:  8024\n",
      "Inpainting of image 72\n",
      "Random Seed:  7190\n",
      "Inpainting of image 73\n",
      "Random Seed:  3942\n",
      "Inpainting of image 74\n",
      "Random Seed:  7975\n",
      "Inpainting of image 75\n",
      "Random Seed:  9905\n",
      "Inpainting of image 76\n",
      "Random Seed:  7494\n",
      "Inpainting of image 77\n",
      "Random Seed:  6993\n",
      "Inpainting of image 78\n",
      "Random Seed:  9395\n",
      "Inpainting of image 79\n",
      "Random Seed:  893\n",
      "Inpainting of image 80\n",
      "Random Seed:  8255\n",
      "Inpainting of image 81\n",
      "Random Seed:  6606\n"
     ]
    }
   ],
   "source": [
    "!python inpainting_video.py --input_name kj.mp4 --inpainting_start_scale 2"
   ]
  },
  {
   "cell_type": "code",
   "execution_count": null,
   "metadata": {
    "id": "_jVdDTlRXQSf"
   },
   "outputs": [],
   "source": [
    "#!rm -r TrainedModels/tree_inpainting/"
   ]
  },
  {
   "cell_type": "code",
   "execution_count": 6,
   "metadata": {
    "id": "Vhxssbc2oqBq"
   },
   "outputs": [],
   "source": [
    "#!python main_train.py --input_name tree_inpainting.png --inpainting"
   ]
  },
  {
   "cell_type": "code",
   "execution_count": null,
   "metadata": {
    "id": "rEHoiNUBr3DM"
   },
   "outputs": [],
   "source": [
    "#!python random_samples.py --input_name \"landscape.jpg\" --mode random_samples --gen_start_scale 0"
   ]
  },
  {
   "cell_type": "code",
   "execution_count": null,
   "metadata": {
    "id": "zLbAUhh_UExy"
   },
   "outputs": [],
   "source": [
    "#!python paint2image.py --input_name \"desert.jpeg\" --ref_name \"desert.png\" --paint_start_scale 4"
   ]
  },
  {
   "cell_type": "code",
   "execution_count": null,
   "metadata": {
    "colab": {
     "base_uri": "https://localhost:8080/"
    },
    "id": "qfeSrxmQO9qK",
    "outputId": "313bd0f3-8b34-42e3-ecc4-90d010f3b699"
   },
   "outputs": [
    {
     "name": "stdout",
     "output_type": "stream",
     "text": [
      "  adding: TrainedModels/ (stored 0%)\n",
      "  adding: TrainedModels/desert./ (stored 0%)\n",
      "  adding: TrainedModels/desert./scale_factor=0.750000,alpha=10/ (stored 0%)\n",
      "  adding: TrainedModels/desert./scale_factor=0.750000,alpha=10/6/ (stored 0%)\n",
      "  adding: TrainedModels/desert./scale_factor=0.750000,alpha=10/6/netD.pth (deflated 8%)\n",
      "  adding: TrainedModels/desert./scale_factor=0.750000,alpha=10/6/fake_sample.png (deflated 0%)\n",
      "  adding: TrainedModels/desert./scale_factor=0.750000,alpha=10/6/z_opt.pth (deflated 100%)\n",
      "  adding: TrainedModels/desert./scale_factor=0.750000,alpha=10/6/G(z_opt).png (stored 0%)\n",
      "  adding: TrainedModels/desert./scale_factor=0.750000,alpha=10/6/real_scale.png (stored 0%)\n",
      "  adding: TrainedModels/desert./scale_factor=0.750000,alpha=10/6/netG.pth (deflated 8%)\n",
      "  adding: TrainedModels/desert./scale_factor=0.750000,alpha=10/1/ (stored 0%)\n",
      "  adding: TrainedModels/desert./scale_factor=0.750000,alpha=10/1/netD.pth (deflated 9%)\n",
      "  adding: TrainedModels/desert./scale_factor=0.750000,alpha=10/1/fake_sample.png (stored 0%)\n",
      "  adding: TrainedModels/desert./scale_factor=0.750000,alpha=10/1/z_opt.pth (deflated 99%)\n",
      "  adding: TrainedModels/desert./scale_factor=0.750000,alpha=10/1/G(z_opt).png (stored 0%)\n",
      "  adding: TrainedModels/desert./scale_factor=0.750000,alpha=10/1/real_scale.png (stored 0%)\n",
      "  adding: TrainedModels/desert./scale_factor=0.750000,alpha=10/1/netG.pth (deflated 9%)\n",
      "  adding: TrainedModels/desert./scale_factor=0.750000,alpha=10/Zs.pth (deflated 100%)\n",
      "  adding: TrainedModels/desert./scale_factor=0.750000,alpha=10/7/ (stored 0%)\n",
      "  adding: TrainedModels/desert./scale_factor=0.750000,alpha=10/7/netD.pth (deflated 8%)\n",
      "  adding: TrainedModels/desert./scale_factor=0.750000,alpha=10/7/fake_sample.png (deflated 0%)\n",
      "  adding: TrainedModels/desert./scale_factor=0.750000,alpha=10/7/z_opt.pth (deflated 100%)\n",
      "  adding: TrainedModels/desert./scale_factor=0.750000,alpha=10/7/G(z_opt).png (deflated 0%)\n",
      "  adding: TrainedModels/desert./scale_factor=0.750000,alpha=10/7/real_scale.png (deflated 0%)\n",
      "  adding: TrainedModels/desert./scale_factor=0.750000,alpha=10/7/netG.pth (deflated 8%)\n",
      "  adding: TrainedModels/desert./scale_factor=0.750000,alpha=10/Gs.pth (deflated 9%)\n",
      "  adding: TrainedModels/desert./scale_factor=0.750000,alpha=10/5/ (stored 0%)\n",
      "  adding: TrainedModels/desert./scale_factor=0.750000,alpha=10/5/netD.pth (deflated 8%)\n",
      "  adding: TrainedModels/desert./scale_factor=0.750000,alpha=10/5/fake_sample.png (stored 0%)\n",
      "  adding: TrainedModels/desert./scale_factor=0.750000,alpha=10/5/z_opt.pth (deflated 100%)\n",
      "  adding: TrainedModels/desert./scale_factor=0.750000,alpha=10/5/G(z_opt).png (stored 0%)\n",
      "  adding: TrainedModels/desert./scale_factor=0.750000,alpha=10/5/real_scale.png (stored 0%)\n",
      "  adding: TrainedModels/desert./scale_factor=0.750000,alpha=10/5/netG.pth (deflated 8%)\n",
      "  adding: TrainedModels/desert./scale_factor=0.750000,alpha=10/NoiseAmp.pth (deflated 45%)\n",
      "  adding: TrainedModels/desert./scale_factor=0.750000,alpha=10/2/ (stored 0%)\n",
      "  adding: TrainedModels/desert./scale_factor=0.750000,alpha=10/2/netD.pth (deflated 9%)\n",
      "  adding: TrainedModels/desert./scale_factor=0.750000,alpha=10/2/fake_sample.png (stored 0%)\n",
      "  adding: TrainedModels/desert./scale_factor=0.750000,alpha=10/2/z_opt.pth (deflated 99%)\n",
      "  adding: TrainedModels/desert./scale_factor=0.750000,alpha=10/2/G(z_opt).png (stored 0%)\n",
      "  adding: TrainedModels/desert./scale_factor=0.750000,alpha=10/2/real_scale.png (stored 0%)\n",
      "  adding: TrainedModels/desert./scale_factor=0.750000,alpha=10/2/netG.pth (deflated 9%)\n",
      "  adding: TrainedModels/desert./scale_factor=0.750000,alpha=10/reals.pth (deflated 49%)\n",
      "  adding: TrainedModels/desert./scale_factor=0.750000,alpha=10/3/ (stored 0%)\n",
      "  adding: TrainedModels/desert./scale_factor=0.750000,alpha=10/3/netD.pth (deflated 9%)\n",
      "  adding: TrainedModels/desert./scale_factor=0.750000,alpha=10/3/fake_sample.png (stored 0%)\n",
      "  adding: TrainedModels/desert./scale_factor=0.750000,alpha=10/3/z_opt.pth (deflated 99%)\n",
      "  adding: TrainedModels/desert./scale_factor=0.750000,alpha=10/3/G(z_opt).png (stored 0%)\n",
      "  adding: TrainedModels/desert./scale_factor=0.750000,alpha=10/3/real_scale.png (stored 0%)\n",
      "  adding: TrainedModels/desert./scale_factor=0.750000,alpha=10/3/netG.pth (deflated 9%)\n",
      "  adding: TrainedModels/desert./scale_factor=0.750000,alpha=10/0/ (stored 0%)\n",
      "  adding: TrainedModels/desert./scale_factor=0.750000,alpha=10/0/netD.pth (deflated 9%)\n",
      "  adding: TrainedModels/desert./scale_factor=0.750000,alpha=10/0/fake_sample.png (stored 0%)\n",
      "  adding: TrainedModels/desert./scale_factor=0.750000,alpha=10/0/z_opt.pth (deflated 80%)\n",
      "  adding: TrainedModels/desert./scale_factor=0.750000,alpha=10/0/G(z_opt).png (stored 0%)\n",
      "  adding: TrainedModels/desert./scale_factor=0.750000,alpha=10/0/real_scale.png (stored 0%)\n",
      "  adding: TrainedModels/desert./scale_factor=0.750000,alpha=10/0/netG.pth (deflated 9%)\n",
      "  adding: TrainedModels/desert./scale_factor=0.750000,alpha=10/4/ (stored 0%)\n",
      "  adding: TrainedModels/desert./scale_factor=0.750000,alpha=10/4/netD.pth (deflated 8%)\n",
      "  adding: TrainedModels/desert./scale_factor=0.750000,alpha=10/4/fake_sample.png (stored 0%)\n",
      "  adding: TrainedModels/desert./scale_factor=0.750000,alpha=10/4/z_opt.pth (deflated 100%)\n",
      "  adding: TrainedModels/desert./scale_factor=0.750000,alpha=10/4/G(z_opt).png (stored 0%)\n",
      "  adding: TrainedModels/desert./scale_factor=0.750000,alpha=10/4/real_scale.png (stored 0%)\n",
      "  adding: TrainedModels/desert./scale_factor=0.750000,alpha=10/4/netG.pth (deflated 8%)\n",
      "  adding: TrainedModels/kj_0/ (stored 0%)\n",
      "  adding: TrainedModels/kj_0/scale_factor=0.750000,alpha=10/ (stored 0%)\n",
      "  adding: TrainedModels/kj_0/scale_factor=0.750000,alpha=10/6/ (stored 0%)\n",
      "  adding: TrainedModels/kj_0/scale_factor=0.750000,alpha=10/6/netD.pth (deflated 8%)\n",
      "  adding: TrainedModels/kj_0/scale_factor=0.750000,alpha=10/6/fake_sample.png (deflated 0%)\n",
      "  adding: TrainedModels/kj_0/scale_factor=0.750000,alpha=10/6/z_opt.pth (deflated 100%)\n",
      "  adding: TrainedModels/kj_0/scale_factor=0.750000,alpha=10/6/G(z_opt).png (deflated 0%)\n",
      "  adding: TrainedModels/kj_0/scale_factor=0.750000,alpha=10/6/real_scale.png (deflated 0%)\n",
      "  adding: TrainedModels/kj_0/scale_factor=0.750000,alpha=10/6/netG.pth (deflated 8%)\n",
      "  adding: TrainedModels/kj_0/scale_factor=0.750000,alpha=10/1/ (stored 0%)\n",
      "  adding: TrainedModels/kj_0/scale_factor=0.750000,alpha=10/1/netD.pth (deflated 9%)\n",
      "  adding: TrainedModels/kj_0/scale_factor=0.750000,alpha=10/1/fake_sample.png (stored 0%)\n",
      "  adding: TrainedModels/kj_0/scale_factor=0.750000,alpha=10/1/z_opt.pth (deflated 99%)\n",
      "  adding: TrainedModels/kj_0/scale_factor=0.750000,alpha=10/1/G(z_opt).png (stored 0%)\n",
      "  adding: TrainedModels/kj_0/scale_factor=0.750000,alpha=10/1/real_scale.png (stored 0%)\n",
      "  adding: TrainedModels/kj_0/scale_factor=0.750000,alpha=10/1/netG.pth (deflated 9%)\n",
      "  adding: TrainedModels/kj_0/scale_factor=0.750000,alpha=10/Zs.pth (deflated 99%)\n",
      "  adding: TrainedModels/kj_0/scale_factor=0.750000,alpha=10/7/ (stored 0%)\n",
      "  adding: TrainedModels/kj_0/scale_factor=0.750000,alpha=10/7/netD.pth (deflated 8%)\n",
      "  adding: TrainedModels/kj_0/scale_factor=0.750000,alpha=10/7/fake_sample.png (deflated 0%)\n",
      "  adding: TrainedModels/kj_0/scale_factor=0.750000,alpha=10/7/z_opt.pth (deflated 100%)\n",
      "  adding: TrainedModels/kj_0/scale_factor=0.750000,alpha=10/7/G(z_opt).png (deflated 0%)\n",
      "  adding: TrainedModels/kj_0/scale_factor=0.750000,alpha=10/7/real_scale.png (deflated 0%)\n",
      "  adding: TrainedModels/kj_0/scale_factor=0.750000,alpha=10/7/netG.pth (deflated 8%)\n",
      "  adding: TrainedModels/kj_0/scale_factor=0.750000,alpha=10/Gs.pth (deflated 9%)\n",
      "  adding: TrainedModels/kj_0/scale_factor=0.750000,alpha=10/5/ (stored 0%)\n",
      "  adding: TrainedModels/kj_0/scale_factor=0.750000,alpha=10/5/netD.pth (deflated 8%)\n",
      "  adding: TrainedModels/kj_0/scale_factor=0.750000,alpha=10/5/fake_sample.png (stored 0%)\n",
      "  adding: TrainedModels/kj_0/scale_factor=0.750000,alpha=10/5/z_opt.pth (deflated 100%)\n",
      "  adding: TrainedModels/kj_0/scale_factor=0.750000,alpha=10/5/G(z_opt).png (stored 0%)\n",
      "  adding: TrainedModels/kj_0/scale_factor=0.750000,alpha=10/5/real_scale.png (deflated 0%)\n",
      "  adding: TrainedModels/kj_0/scale_factor=0.750000,alpha=10/5/netG.pth (deflated 8%)\n",
      "  adding: TrainedModels/kj_0/scale_factor=0.750000,alpha=10/NoiseAmp.pth (deflated 44%)\n",
      "  adding: TrainedModels/kj_0/scale_factor=0.750000,alpha=10/2/ (stored 0%)\n",
      "  adding: TrainedModels/kj_0/scale_factor=0.750000,alpha=10/2/netD.pth (deflated 9%)\n",
      "  adding: TrainedModels/kj_0/scale_factor=0.750000,alpha=10/2/fake_sample.png (stored 0%)\n",
      "  adding: TrainedModels/kj_0/scale_factor=0.750000,alpha=10/2/z_opt.pth (deflated 99%)\n",
      "  adding: TrainedModels/kj_0/scale_factor=0.750000,alpha=10/2/G(z_opt).png (stored 0%)\n",
      "  adding: TrainedModels/kj_0/scale_factor=0.750000,alpha=10/2/real_scale.png (stored 0%)\n",
      "  adding: TrainedModels/kj_0/scale_factor=0.750000,alpha=10/2/netG.pth (deflated 9%)\n",
      "  adding: TrainedModels/kj_0/scale_factor=0.750000,alpha=10/reals.pth (deflated 34%)\n",
      "  adding: TrainedModels/kj_0/scale_factor=0.750000,alpha=10/3/ (stored 0%)\n",
      "  adding: TrainedModels/kj_0/scale_factor=0.750000,alpha=10/3/netD.pth (deflated 9%)\n",
      "  adding: TrainedModels/kj_0/scale_factor=0.750000,alpha=10/3/fake_sample.png (stored 0%)\n",
      "  adding: TrainedModels/kj_0/scale_factor=0.750000,alpha=10/3/z_opt.pth (deflated 99%)\n",
      "  adding: TrainedModels/kj_0/scale_factor=0.750000,alpha=10/3/G(z_opt).png (stored 0%)\n",
      "  adding: TrainedModels/kj_0/scale_factor=0.750000,alpha=10/3/real_scale.png (stored 0%)\n",
      "  adding: TrainedModels/kj_0/scale_factor=0.750000,alpha=10/3/netG.pth (deflated 9%)\n",
      "  adding: TrainedModels/kj_0/scale_factor=0.750000,alpha=10/0/ (stored 0%)\n",
      "  adding: TrainedModels/kj_0/scale_factor=0.750000,alpha=10/0/netD.pth (deflated 9%)\n",
      "  adding: TrainedModels/kj_0/scale_factor=0.750000,alpha=10/0/fake_sample.png (stored 0%)\n",
      "  adding: TrainedModels/kj_0/scale_factor=0.750000,alpha=10/0/z_opt.pth (deflated 80%)\n",
      "  adding: TrainedModels/kj_0/scale_factor=0.750000,alpha=10/0/G(z_opt).png (stored 0%)\n",
      "  adding: TrainedModels/kj_0/scale_factor=0.750000,alpha=10/0/real_scale.png (stored 0%)\n",
      "  adding: TrainedModels/kj_0/scale_factor=0.750000,alpha=10/0/netG.pth (deflated 9%)\n",
      "  adding: TrainedModels/kj_0/scale_factor=0.750000,alpha=10/4/ (stored 0%)\n",
      "  adding: TrainedModels/kj_0/scale_factor=0.750000,alpha=10/4/netD.pth (deflated 8%)\n",
      "  adding: TrainedModels/kj_0/scale_factor=0.750000,alpha=10/4/fake_sample.png (stored 0%)\n",
      "  adding: TrainedModels/kj_0/scale_factor=0.750000,alpha=10/4/z_opt.pth (deflated 100%)\n",
      "  adding: TrainedModels/kj_0/scale_factor=0.750000,alpha=10/4/G(z_opt).png (stored 0%)\n",
      "  adding: TrainedModels/kj_0/scale_factor=0.750000,alpha=10/4/real_scale.png (stored 0%)\n",
      "  adding: TrainedModels/kj_0/scale_factor=0.750000,alpha=10/4/netG.pth (deflated 8%)\n",
      "  adding: TrainedModels/landscape/ (stored 0%)\n",
      "  adding: TrainedModels/landscape/scale_factor=0.750000,alpha=10/ (stored 0%)\n",
      "  adding: TrainedModels/landscape/scale_factor=0.750000,alpha=10/6/ (stored 0%)\n",
      "  adding: TrainedModels/landscape/scale_factor=0.750000,alpha=10/6/netD.pth (deflated 8%)\n",
      "  adding: TrainedModels/landscape/scale_factor=0.750000,alpha=10/6/fake_sample.png (stored 0%)\n",
      "  adding: TrainedModels/landscape/scale_factor=0.750000,alpha=10/6/z_opt.pth (deflated 100%)\n",
      "  adding: TrainedModels/landscape/scale_factor=0.750000,alpha=10/6/G(z_opt).png (stored 0%)\n",
      "  adding: TrainedModels/landscape/scale_factor=0.750000,alpha=10/6/real_scale.png (stored 0%)\n",
      "  adding: TrainedModels/landscape/scale_factor=0.750000,alpha=10/6/netG.pth (deflated 8%)\n",
      "  adding: TrainedModels/landscape/scale_factor=0.750000,alpha=10/1/ (stored 0%)\n",
      "  adding: TrainedModels/landscape/scale_factor=0.750000,alpha=10/1/netD.pth (deflated 9%)\n",
      "  adding: TrainedModels/landscape/scale_factor=0.750000,alpha=10/1/fake_sample.png (stored 0%)\n",
      "  adding: TrainedModels/landscape/scale_factor=0.750000,alpha=10/1/z_opt.pth (deflated 99%)\n",
      "  adding: TrainedModels/landscape/scale_factor=0.750000,alpha=10/1/G(z_opt).png (stored 0%)\n",
      "  adding: TrainedModels/landscape/scale_factor=0.750000,alpha=10/1/real_scale.png (stored 0%)\n",
      "  adding: TrainedModels/landscape/scale_factor=0.750000,alpha=10/1/netG.pth (deflated 9%)\n",
      "  adding: TrainedModels/landscape/scale_factor=0.750000,alpha=10/Zs.pth (deflated 100%)\n",
      "  adding: TrainedModels/landscape/scale_factor=0.750000,alpha=10/7/ (stored 0%)\n",
      "  adding: TrainedModels/landscape/scale_factor=0.750000,alpha=10/7/netD.pth (deflated 8%)\n",
      "  adding: TrainedModels/landscape/scale_factor=0.750000,alpha=10/7/fake_sample.png (deflated 0%)\n",
      "  adding: TrainedModels/landscape/scale_factor=0.750000,alpha=10/7/z_opt.pth (deflated 100%)\n",
      "  adding: TrainedModels/landscape/scale_factor=0.750000,alpha=10/7/G(z_opt).png (deflated 0%)\n",
      "  adding: TrainedModels/landscape/scale_factor=0.750000,alpha=10/7/real_scale.png (deflated 0%)\n",
      "  adding: TrainedModels/landscape/scale_factor=0.750000,alpha=10/7/netG.pth (deflated 8%)\n",
      "  adding: TrainedModels/landscape/scale_factor=0.750000,alpha=10/Gs.pth (deflated 8%)\n",
      "  adding: TrainedModels/landscape/scale_factor=0.750000,alpha=10/5/ (stored 0%)\n",
      "  adding: TrainedModels/landscape/scale_factor=0.750000,alpha=10/5/netD.pth (deflated 8%)\n",
      "  adding: TrainedModels/landscape/scale_factor=0.750000,alpha=10/5/fake_sample.png (stored 0%)\n",
      "  adding: TrainedModels/landscape/scale_factor=0.750000,alpha=10/5/z_opt.pth (deflated 100%)\n",
      "  adding: TrainedModels/landscape/scale_factor=0.750000,alpha=10/5/G(z_opt).png (stored 0%)\n",
      "  adding: TrainedModels/landscape/scale_factor=0.750000,alpha=10/5/real_scale.png (stored 0%)\n",
      "  adding: TrainedModels/landscape/scale_factor=0.750000,alpha=10/5/netG.pth (deflated 8%)\n",
      "  adding: TrainedModels/landscape/scale_factor=0.750000,alpha=10/8/ (stored 0%)\n",
      "  adding: TrainedModels/landscape/scale_factor=0.750000,alpha=10/8/netD.pth (deflated 7%)\n",
      "  adding: TrainedModels/landscape/scale_factor=0.750000,alpha=10/8/fake_sample.png (deflated 0%)\n",
      "  adding: TrainedModels/landscape/scale_factor=0.750000,alpha=10/8/z_opt.pth (deflated 100%)\n",
      "  adding: TrainedModels/landscape/scale_factor=0.750000,alpha=10/8/G(z_opt).png (deflated 0%)\n",
      "  adding: TrainedModels/landscape/scale_factor=0.750000,alpha=10/8/real_scale.png (deflated 0%)\n",
      "  adding: TrainedModels/landscape/scale_factor=0.750000,alpha=10/8/netG.pth (deflated 7%)\n",
      "  adding: TrainedModels/landscape/scale_factor=0.750000,alpha=10/NoiseAmp.pth (deflated 46%)\n",
      "  adding: TrainedModels/landscape/scale_factor=0.750000,alpha=10/2/ (stored 0%)\n",
      "  adding: TrainedModels/landscape/scale_factor=0.750000,alpha=10/2/netD.pth (deflated 9%)\n",
      "  adding: TrainedModels/landscape/scale_factor=0.750000,alpha=10/2/fake_sample.png (stored 0%)\n",
      "  adding: TrainedModels/landscape/scale_factor=0.750000,alpha=10/2/z_opt.pth (deflated 99%)\n",
      "  adding: TrainedModels/landscape/scale_factor=0.750000,alpha=10/2/G(z_opt).png (stored 0%)\n",
      "  adding: TrainedModels/landscape/scale_factor=0.750000,alpha=10/2/real_scale.png (stored 0%)\n",
      "  adding: TrainedModels/landscape/scale_factor=0.750000,alpha=10/2/netG.pth (deflated 9%)\n",
      "  adding: TrainedModels/landscape/scale_factor=0.750000,alpha=10/reals.pth (deflated 34%)\n",
      "  adding: TrainedModels/landscape/scale_factor=0.750000,alpha=10/3/ (stored 0%)\n",
      "  adding: TrainedModels/landscape/scale_factor=0.750000,alpha=10/3/netD.pth (deflated 9%)\n",
      "  adding: TrainedModels/landscape/scale_factor=0.750000,alpha=10/3/fake_sample.png (stored 0%)\n",
      "  adding: TrainedModels/landscape/scale_factor=0.750000,alpha=10/3/z_opt.pth (deflated 99%)\n",
      "  adding: TrainedModels/landscape/scale_factor=0.750000,alpha=10/3/G(z_opt).png (stored 0%)\n",
      "  adding: TrainedModels/landscape/scale_factor=0.750000,alpha=10/3/real_scale.png (stored 0%)\n",
      "  adding: TrainedModels/landscape/scale_factor=0.750000,alpha=10/3/netG.pth (deflated 9%)\n",
      "  adding: TrainedModels/landscape/scale_factor=0.750000,alpha=10/0/ (stored 0%)\n",
      "  adding: TrainedModels/landscape/scale_factor=0.750000,alpha=10/0/netD.pth (deflated 9%)\n",
      "  adding: TrainedModels/landscape/scale_factor=0.750000,alpha=10/0/fake_sample.png (stored 0%)\n",
      "  adding: TrainedModels/landscape/scale_factor=0.750000,alpha=10/0/z_opt.pth (deflated 80%)\n",
      "  adding: TrainedModels/landscape/scale_factor=0.750000,alpha=10/0/G(z_opt).png (stored 0%)\n",
      "  adding: TrainedModels/landscape/scale_factor=0.750000,alpha=10/0/real_scale.png (stored 0%)\n",
      "  adding: TrainedModels/landscape/scale_factor=0.750000,alpha=10/0/netG.pth (deflated 9%)\n",
      "  adding: TrainedModels/landscape/scale_factor=0.750000,alpha=10/4/ (stored 0%)\n",
      "  adding: TrainedModels/landscape/scale_factor=0.750000,alpha=10/4/netD.pth (deflated 8%)\n",
      "  adding: TrainedModels/landscape/scale_factor=0.750000,alpha=10/4/fake_sample.png (stored 0%)\n",
      "  adding: TrainedModels/landscape/scale_factor=0.750000,alpha=10/4/z_opt.pth (deflated 100%)\n",
      "  adding: TrainedModels/landscape/scale_factor=0.750000,alpha=10/4/G(z_opt).png (stored 0%)\n",
      "  adding: TrainedModels/landscape/scale_factor=0.750000,alpha=10/4/real_scale.png (stored 0%)\n",
      "  adding: TrainedModels/landscape/scale_factor=0.750000,alpha=10/4/netG.pth (deflated 8%)\n"
     ]
    }
   ],
   "source": [
    "#!zip -r TrainedModels.zip TrainedModels\n",
    "#files.download(\"TrainedModels.zip\")"
   ]
  },
  {
   "cell_type": "code",
   "execution_count": null,
   "metadata": {
    "colab": {
     "base_uri": "https://localhost:8080/",
     "height": 1000
    },
    "id": "WOLhz_sAEfwj",
    "outputId": "9e1adbc9-c577-4dfb-8762-e0fb9e4c7347"
   },
   "outputs": [
    {
     "name": "stdout",
     "output_type": "stream",
     "text": [
      "  adding: Output/ (stored 0%)\n",
      "  adding: Output/Inpainting/ (stored 0%)\n",
      "  adding: Output/Inpainting/tree_inpainting/ (stored 0%)\n",
      "  adding: Output/Inpainting/tree_inpainting/tree_inpainting_out/ (stored 0%)\n",
      "  adding: Output/Inpainting/tree_inpainting/tree_inpainting_out/start_scale=2_original.png (deflated 0%)\n",
      "  adding: Output/Inpainting/tree_inpainting/tree_inpainting_out/start_scale=2_generated.png (deflated 0%)\n",
      "  adding: Output/Inpainting/tree_inpainting/tree_inpainting_out/start_scale=2_inpainted.png (deflated 0%)\n",
      "  adding: Output/RandomSamples/ (stored 0%)\n",
      "  adding: Output/RandomSamples/landscape/ (stored 0%)\n",
      "  adding: Output/RandomSamples/landscape/gen_start_scale=0/ (stored 0%)\n",
      "  adding: Output/RandomSamples/landscape/gen_start_scale=0/49.png (deflated 0%)\n",
      "  adding: Output/RandomSamples/landscape/gen_start_scale=0/6.png (deflated 0%)\n",
      "  adding: Output/RandomSamples/landscape/gen_start_scale=0/24.png (deflated 0%)\n",
      "  adding: Output/RandomSamples/landscape/gen_start_scale=0/7.png (deflated 0%)\n",
      "  adding: Output/RandomSamples/landscape/gen_start_scale=0/32.png (deflated 0%)\n",
      "  adding: Output/RandomSamples/landscape/gen_start_scale=0/22.png (deflated 0%)\n",
      "  adding: Output/RandomSamples/landscape/gen_start_scale=0/12.png (deflated 0%)\n",
      "  adding: Output/RandomSamples/landscape/gen_start_scale=0/5.png (deflated 0%)\n",
      "  adding: Output/RandomSamples/landscape/gen_start_scale=0/47.png (deflated 0%)\n",
      "  adding: Output/RandomSamples/landscape/gen_start_scale=0/29.png (deflated 0%)\n",
      "  adding: Output/RandomSamples/landscape/gen_start_scale=0/1.png (deflated 0%)\n",
      "  adding: Output/RandomSamples/landscape/gen_start_scale=0/3.png (deflated 0%)\n",
      "  adding: Output/RandomSamples/landscape/gen_start_scale=0/48.png (deflated 0%)\n",
      "  adding: Output/RandomSamples/landscape/gen_start_scale=0/39.png (deflated 0%)\n",
      "  adding: Output/RandomSamples/landscape/gen_start_scale=0/16.png (deflated 0%)\n",
      "  adding: Output/RandomSamples/landscape/gen_start_scale=0/34.png (deflated 0%)\n",
      "  adding: Output/RandomSamples/landscape/gen_start_scale=0/46.png (deflated 0%)\n",
      "  adding: Output/RandomSamples/landscape/gen_start_scale=0/18.png (deflated 0%)\n",
      "  adding: Output/RandomSamples/landscape/gen_start_scale=0/21.png (deflated 0%)\n",
      "  adding: Output/RandomSamples/landscape/gen_start_scale=0/26.png (deflated 0%)\n",
      "  adding: Output/RandomSamples/landscape/gen_start_scale=0/42.png (deflated 0%)\n",
      "  adding: Output/RandomSamples/landscape/gen_start_scale=0/4.png (deflated 0%)\n",
      "  adding: Output/RandomSamples/landscape/gen_start_scale=0/43.png (deflated 0%)\n",
      "  adding: Output/RandomSamples/landscape/gen_start_scale=0/45.png (deflated 0%)\n",
      "  adding: Output/RandomSamples/landscape/gen_start_scale=0/30.png (deflated 0%)\n",
      "  adding: Output/RandomSamples/landscape/gen_start_scale=0/14.png (deflated 0%)\n",
      "  adding: Output/RandomSamples/landscape/gen_start_scale=0/33.png (deflated 0%)\n",
      "  adding: Output/RandomSamples/landscape/gen_start_scale=0/31.png (deflated 0%)\n",
      "  adding: Output/RandomSamples/landscape/gen_start_scale=0/35.png (deflated 0%)\n",
      "  adding: Output/RandomSamples/landscape/gen_start_scale=0/36.png (deflated 0%)\n",
      "  adding: Output/RandomSamples/landscape/gen_start_scale=0/37.png (deflated 0%)\n",
      "  adding: Output/RandomSamples/landscape/gen_start_scale=0/0.png (deflated 0%)\n",
      "  adding: Output/RandomSamples/landscape/gen_start_scale=0/20.png (deflated 0%)\n",
      "  adding: Output/RandomSamples/landscape/gen_start_scale=0/15.png (deflated 0%)\n",
      "  adding: Output/RandomSamples/landscape/gen_start_scale=0/10.png (deflated 0%)\n",
      "  adding: Output/RandomSamples/landscape/gen_start_scale=0/41.png (deflated 0%)\n",
      "  adding: Output/RandomSamples/landscape/gen_start_scale=0/2.png (deflated 0%)\n",
      "  adding: Output/RandomSamples/landscape/gen_start_scale=0/27.png (deflated 0%)\n",
      "  adding: Output/RandomSamples/landscape/gen_start_scale=0/38.png (deflated 0%)\n",
      "  adding: Output/RandomSamples/landscape/gen_start_scale=0/40.png (deflated 0%)\n",
      "  adding: Output/RandomSamples/landscape/gen_start_scale=0/19.png (deflated 0%)\n",
      "  adding: Output/RandomSamples/landscape/gen_start_scale=0/9.png (deflated 0%)\n",
      "  adding: Output/RandomSamples/landscape/gen_start_scale=0/28.png (deflated 0%)\n",
      "  adding: Output/RandomSamples/landscape/gen_start_scale=0/44.png (deflated 0%)\n",
      "  adding: Output/RandomSamples/landscape/gen_start_scale=0/8.png (deflated 0%)\n",
      "  adding: Output/RandomSamples/landscape/gen_start_scale=0/11.png (deflated 0%)\n",
      "  adding: Output/RandomSamples/landscape/gen_start_scale=0/25.png (deflated 0%)\n",
      "  adding: Output/RandomSamples/landscape/gen_start_scale=0/17.png (deflated 0%)\n",
      "  adding: Output/RandomSamples/landscape/gen_start_scale=0/13.png (deflated 0%)\n",
      "  adding: Output/RandomSamples/landscape/gen_start_scale=0/23.png (deflated 0%)\n",
      "  adding: Output/RandomSamples/tree_inpainting/ (stored 0%)\n",
      "  adding: Output/RandomSamples/tree_inpainting/gen_start_scale=0/ (stored 0%)\n",
      "  adding: Output/RandomSamples/tree_inpainting/gen_start_scale=0/49.png (deflated 0%)\n",
      "  adding: Output/RandomSamples/tree_inpainting/gen_start_scale=0/6.png (deflated 0%)\n",
      "  adding: Output/RandomSamples/tree_inpainting/gen_start_scale=0/24.png (deflated 0%)\n",
      "  adding: Output/RandomSamples/tree_inpainting/gen_start_scale=0/7.png (deflated 0%)\n",
      "  adding: Output/RandomSamples/tree_inpainting/gen_start_scale=0/32.png (deflated 0%)\n",
      "  adding: Output/RandomSamples/tree_inpainting/gen_start_scale=0/22.png (deflated 0%)\n",
      "  adding: Output/RandomSamples/tree_inpainting/gen_start_scale=0/12.png (deflated 0%)\n",
      "  adding: Output/RandomSamples/tree_inpainting/gen_start_scale=0/5.png (deflated 0%)\n",
      "  adding: Output/RandomSamples/tree_inpainting/gen_start_scale=0/47.png (deflated 0%)\n",
      "  adding: Output/RandomSamples/tree_inpainting/gen_start_scale=0/29.png (deflated 0%)\n",
      "  adding: Output/RandomSamples/tree_inpainting/gen_start_scale=0/1.png (deflated 0%)\n",
      "  adding: Output/RandomSamples/tree_inpainting/gen_start_scale=0/3.png (deflated 0%)\n",
      "  adding: Output/RandomSamples/tree_inpainting/gen_start_scale=0/48.png (deflated 0%)\n",
      "  adding: Output/RandomSamples/tree_inpainting/gen_start_scale=0/39.png (deflated 0%)\n",
      "  adding: Output/RandomSamples/tree_inpainting/gen_start_scale=0/16.png (deflated 0%)\n",
      "  adding: Output/RandomSamples/tree_inpainting/gen_start_scale=0/34.png (deflated 0%)\n",
      "  adding: Output/RandomSamples/tree_inpainting/gen_start_scale=0/46.png (deflated 0%)\n",
      "  adding: Output/RandomSamples/tree_inpainting/gen_start_scale=0/18.png (deflated 0%)\n",
      "  adding: Output/RandomSamples/tree_inpainting/gen_start_scale=0/21.png (deflated 0%)\n",
      "  adding: Output/RandomSamples/tree_inpainting/gen_start_scale=0/26.png (deflated 0%)\n",
      "  adding: Output/RandomSamples/tree_inpainting/gen_start_scale=0/42.png (deflated 0%)\n",
      "  adding: Output/RandomSamples/tree_inpainting/gen_start_scale=0/4.png (deflated 0%)\n",
      "  adding: Output/RandomSamples/tree_inpainting/gen_start_scale=0/43.png (deflated 0%)\n",
      "  adding: Output/RandomSamples/tree_inpainting/gen_start_scale=0/45.png (deflated 0%)\n",
      "  adding: Output/RandomSamples/tree_inpainting/gen_start_scale=0/30.png (deflated 0%)\n",
      "  adding: Output/RandomSamples/tree_inpainting/gen_start_scale=0/14.png (deflated 0%)\n",
      "  adding: Output/RandomSamples/tree_inpainting/gen_start_scale=0/33.png (deflated 0%)\n",
      "  adding: Output/RandomSamples/tree_inpainting/gen_start_scale=0/31.png (deflated 0%)\n",
      "  adding: Output/RandomSamples/tree_inpainting/gen_start_scale=0/35.png (deflated 0%)\n",
      "  adding: Output/RandomSamples/tree_inpainting/gen_start_scale=0/36.png (deflated 0%)\n",
      "  adding: Output/RandomSamples/tree_inpainting/gen_start_scale=0/37.png (deflated 0%)\n",
      "  adding: Output/RandomSamples/tree_inpainting/gen_start_scale=0/0.png (deflated 0%)\n",
      "  adding: Output/RandomSamples/tree_inpainting/gen_start_scale=0/20.png (deflated 0%)\n",
      "  adding: Output/RandomSamples/tree_inpainting/gen_start_scale=0/15.png (deflated 0%)\n",
      "  adding: Output/RandomSamples/tree_inpainting/gen_start_scale=0/10.png (deflated 0%)\n",
      "  adding: Output/RandomSamples/tree_inpainting/gen_start_scale=0/41.png (deflated 0%)\n",
      "  adding: Output/RandomSamples/tree_inpainting/gen_start_scale=0/2.png (deflated 0%)\n",
      "  adding: Output/RandomSamples/tree_inpainting/gen_start_scale=0/27.png (deflated 0%)\n",
      "  adding: Output/RandomSamples/tree_inpainting/gen_start_scale=0/38.png (deflated 0%)\n",
      "  adding: Output/RandomSamples/tree_inpainting/gen_start_scale=0/40.png (deflated 0%)\n",
      "  adding: Output/RandomSamples/tree_inpainting/gen_start_scale=0/19.png (deflated 0%)\n",
      "  adding: Output/RandomSamples/tree_inpainting/gen_start_scale=0/9.png (deflated 0%)\n",
      "  adding: Output/RandomSamples/tree_inpainting/gen_start_scale=0/28.png (deflated 0%)\n",
      "  adding: Output/RandomSamples/tree_inpainting/gen_start_scale=0/44.png (deflated 0%)\n",
      "  adding: Output/RandomSamples/tree_inpainting/gen_start_scale=0/8.png (deflated 0%)\n",
      "  adding: Output/RandomSamples/tree_inpainting/gen_start_scale=0/11.png (deflated 0%)\n",
      "  adding: Output/RandomSamples/tree_inpainting/gen_start_scale=0/25.png (deflated 0%)\n",
      "  adding: Output/RandomSamples/tree_inpainting/gen_start_scale=0/17.png (deflated 0%)\n",
      "  adding: Output/RandomSamples/tree_inpainting/gen_start_scale=0/13.png (deflated 0%)\n",
      "  adding: Output/RandomSamples/tree_inpainting/gen_start_scale=0/23.png (deflated 0%)\n"
     ]
    },
    {
     "data": {
      "application/javascript": [
       "\n",
       "    async function download(id, filename, size) {\n",
       "      if (!google.colab.kernel.accessAllowed) {\n",
       "        return;\n",
       "      }\n",
       "      const div = document.createElement('div');\n",
       "      const label = document.createElement('label');\n",
       "      label.textContent = `Downloading \"${filename}\": `;\n",
       "      div.appendChild(label);\n",
       "      const progress = document.createElement('progress');\n",
       "      progress.max = size;\n",
       "      div.appendChild(progress);\n",
       "      document.body.appendChild(div);\n",
       "\n",
       "      const buffers = [];\n",
       "      let downloaded = 0;\n",
       "\n",
       "      const channel = await google.colab.kernel.comms.open(id);\n",
       "      // Send a message to notify the kernel that we're ready.\n",
       "      channel.send({})\n",
       "\n",
       "      for await (const message of channel.messages) {\n",
       "        // Send a message to notify the kernel that we're ready.\n",
       "        channel.send({})\n",
       "        if (message.buffers) {\n",
       "          for (const buffer of message.buffers) {\n",
       "            buffers.push(buffer);\n",
       "            downloaded += buffer.byteLength;\n",
       "            progress.value = downloaded;\n",
       "          }\n",
       "        }\n",
       "      }\n",
       "      const blob = new Blob(buffers, {type: 'application/binary'});\n",
       "      const a = document.createElement('a');\n",
       "      a.href = window.URL.createObjectURL(blob);\n",
       "      a.download = filename;\n",
       "      div.appendChild(a);\n",
       "      a.click();\n",
       "      div.remove();\n",
       "    }\n",
       "  "
      ],
      "text/plain": [
       "<IPython.core.display.Javascript object>"
      ]
     },
     "metadata": {
      "tags": []
     },
     "output_type": "display_data"
    },
    {
     "data": {
      "application/javascript": [
       "download(\"download_1b458f84-b333-46a3-b0ad-44298e98a44c\", \"Output.zip\", 8783554)"
      ],
      "text/plain": [
       "<IPython.core.display.Javascript object>"
      ]
     },
     "metadata": {
      "tags": []
     },
     "output_type": "display_data"
    }
   ],
   "source": [
    "#!zip -r Output.zip Output\n",
    "\n",
    "#files.download(\"Output.zip\")"
   ]
  }
 ],
 "metadata": {
  "accelerator": "GPU",
  "colab": {
   "collapsed_sections": [],
   "name": "Untitled1.ipynb",
   "provenance": []
  },
  "kernelspec": {
   "display_name": "Python 3",
   "language": "python",
   "name": "python3"
  },
  "language_info": {
   "codemirror_mode": {
    "name": "ipython",
    "version": 3
   },
   "file_extension": ".py",
   "mimetype": "text/x-python",
   "name": "python",
   "nbconvert_exporter": "python",
   "pygments_lexer": "ipython3",
   "version": "3.8.3"
  }
 },
 "nbformat": 4,
 "nbformat_minor": 1
}
