{
  "nbformat": 4,
  "nbformat_minor": 0,
  "metadata": {
    "colab": {
      "name": "SinGAN_results_reproduction.ipynb",
      "provenance": [],
      "collapsed_sections": []
    },
    "kernelspec": {
      "display_name": "Python 3",
      "name": "python3"
    },
    "accelerator": "GPU"
  },
  "cells": [
    {
      "cell_type": "code",
      "metadata": {
        "id": "BU8fG2YJxVG2"
      },
      "source": [
        "#rm -r /SinGAN"
      ],
      "execution_count": 11,
      "outputs": []
    },
    {
      "cell_type": "code",
      "metadata": {
        "colab": {
          "base_uri": "https://localhost:8080/"
        },
        "id": "tftIxrVI_V2h",
        "outputId": "faa37c5d-6f72-44f0-b83a-03a7d28d88e4"
      },
      "source": [
        "!git clone https://github.com/Auriane-Riou/SinGAN "
      ],
      "execution_count": 2,
      "outputs": [
        {
          "output_type": "stream",
          "text": [
            "Cloning into 'SinGAN'...\n",
            "remote: Enumerating objects: 203, done.\u001b[K\n",
            "remote: Counting objects: 100% (203/203), done.\u001b[K\n",
            "remote: Compressing objects: 100% (171/171), done.\u001b[K\n",
            "remote: Total 276 (delta 33), reused 196 (delta 28), pack-reused 73\u001b[K\n",
            "Receiving objects: 100% (276/276), 96.90 MiB | 5.64 MiB/s, done.\n",
            "Resolving deltas: 100% (38/38), done.\n"
          ],
          "name": "stdout"
        }
      ]
    },
    {
      "cell_type": "code",
      "metadata": {
        "colab": {
          "base_uri": "https://localhost:8080/"
        },
        "id": "c4FjJDMerFyL",
        "outputId": "9c31d274-33e0-469c-e3bf-0e6f7180d38b"
      },
      "source": [
        "%cd /content/SinGAN/"
      ],
      "execution_count": 3,
      "outputs": [
        {
          "output_type": "stream",
          "text": [
            "/content/SinGAN\n"
          ],
          "name": "stdout"
        }
      ]
    },
    {
      "cell_type": "code",
      "metadata": {
        "colab": {
          "base_uri": "https://localhost:8080/"
        },
        "id": "44J8_QngQx0l",
        "outputId": "66c665e5-e638-4fce-d410-4d8c656c716a"
      },
      "source": [
        "!pip install torch==1.4.0 torchvision==0.5.0"
      ],
      "execution_count": 3,
      "outputs": [
        {
          "output_type": "stream",
          "text": [
            "Requirement already satisfied: torch==1.4.0 in /usr/local/lib/python3.6/dist-packages (1.4.0)\n",
            "Requirement already satisfied: torchvision==0.5.0 in /usr/local/lib/python3.6/dist-packages (0.5.0)\n",
            "Requirement already satisfied: pillow>=4.1.1 in /usr/local/lib/python3.6/dist-packages (from torchvision==0.5.0) (7.0.0)\n",
            "Requirement already satisfied: six in /usr/local/lib/python3.6/dist-packages (from torchvision==0.5.0) (1.15.0)\n",
            "Requirement already satisfied: numpy in /usr/local/lib/python3.6/dist-packages (from torchvision==0.5.0) (1.18.5)\n"
          ],
          "name": "stdout"
        }
      ]
    },
    {
      "cell_type": "code",
      "metadata": {
        "colab": {
          "base_uri": "https://localhost:8080/"
        },
        "id": "64zNpVxrVBl1",
        "outputId": "eb4da050-b4ea-481e-cb77-8fce44e4f54c"
      },
      "source": [
        "#!python3 \"main_train.py\" --input_name \"desert.jpeg\""
      ],
      "execution_count": 5,
      "outputs": [
        {
          "output_type": "stream",
          "text": [
            "Namespace(Dsteps=3, Gsteps=3, alpha=10, beta1=0.5, gamma=0.1, input_dir='Input/Images', input_name='desert.jpeg', ker_size=3, lambda_grad=0.1, lr_d=0.0005, lr_g=0.0005, manualSeed=None, max_size=250, min_nfc=32, min_size=25, mode='train', nc_im=3, nc_z=3, netD='', netG='', nfc=32, niter=2000, noise_amp=0.1, not_cuda=0, num_layer=5, out='Output', padd_size=0, scale_factor=0.75, stride=1)\n",
            "Random Seed:  2225\n",
            "Namespace(Dsteps=3, Gsteps=3, alpha=10, beta1=0.5, device=device(type='cuda', index=0), gamma=0.1, input_dir='Input/Images', input_name='desert.jpeg', ker_size=3, lambda_grad=0.1, lr_d=0.0005, lr_g=0.0005, manualSeed=2225, max_size=250, min_nfc=32, min_nfc_init=32, min_size=25, mode='train', nc_im=3, nc_z=3, netD='', netG='', nfc=32, nfc_init=32, niter=2000, niter_init=2000, noise_amp=0.1, noise_amp_init=0.1, not_cuda=0, num_layer=5, out='Output', out_='TrainedModels/desert./scale_factor=0.750000/', padd_size=0, scale_factor=0.75, scale_factor_init=0.75, stride=1)\n",
            "trained model already exist\n"
          ],
          "name": "stdout"
        }
      ]
    },
    {
      "cell_type": "code",
      "metadata": {
        "colab": {
          "base_uri": "https://localhost:8080/"
        },
        "id": "rEHoiNUBr3DM",
        "outputId": "0128bba9-5ec1-4946-98ef-4bf60711d190"
      },
      "source": [
        "#!python random_samples.py --input_name \"landscape.jpg\" --mode random_samples --gen_start_scale 0"
      ],
      "execution_count": 4,
      "outputs": [
        {
          "output_type": "stream",
          "text": [
            "Random Seed:  2800\n",
            "random samples for image landscape.jpg, start scale=0, already exist\n"
          ],
          "name": "stdout"
        }
      ]
    },
    {
      "cell_type": "code",
      "metadata": {
        "colab": {
          "base_uri": "https://localhost:8080/"
        },
        "id": "zLbAUhh_UExy",
        "outputId": "a99f0732-051c-4fd8-fda7-bd3719f3a5d5"
      },
      "source": [
        "!python paint2image.py --input_name \"desert.jpeg\" --ref_name \"desert.png\" --paint_start_scale 4"
      ],
      "execution_count": 10,
      "outputs": [
        {
          "output_type": "stream",
          "text": [
            "Random Seed:  7090\n"
          ],
          "name": "stdout"
        }
      ]
    },
    {
      "cell_type": "code",
      "metadata": {
        "colab": {
          "base_uri": "https://localhost:8080/"
        },
        "id": "qfeSrxmQO9qK",
        "outputId": "fba306a9-667f-4cf5-a90e-32dab5411155"
      },
      "source": [
        "from google.colab import files\n",
        "\n",
        "!zip -r Output.zip Output\n",
        "!zip -r TrainedModels.zip TrainedModels"
      ],
      "execution_count": null,
      "outputs": [
        {
          "output_type": "stream",
          "text": [
            "updating: Output/ (stored 0%)\n",
            "updating: Output/RandomSamples/ (stored 0%)\n",
            "updating: Output/RandomSamples/desert./ (stored 0%)\n",
            "updating: Output/RandomSamples/desert./gen_start_scale=0/ (stored 0%)\n",
            "updating: Output/RandomSamples/desert./gen_start_scale=0/37.png (deflated 0%)\n",
            "updating: Output/RandomSamples/desert./gen_start_scale=0/5.png (deflated 0%)\n",
            "updating: Output/RandomSamples/desert./gen_start_scale=0/19.png (deflated 0%)\n",
            "updating: Output/RandomSamples/desert./gen_start_scale=0/4.png (deflated 0%)\n",
            "updating: Output/RandomSamples/desert./gen_start_scale=0/43.png (deflated 0%)\n",
            "updating: Output/RandomSamples/desert./gen_start_scale=0/17.png (deflated 0%)\n",
            "updating: Output/RandomSamples/desert./gen_start_scale=0/24.png (deflated 0%)\n",
            "updating: Output/RandomSamples/desert./gen_start_scale=0/45.png (deflated 0%)\n",
            "updating: Output/RandomSamples/desert./gen_start_scale=0/25.png (deflated 0%)\n",
            "updating: Output/RandomSamples/desert./gen_start_scale=0/32.png (deflated 0%)\n",
            "updating: Output/RandomSamples/desert./gen_start_scale=0/3.png (deflated 0%)\n",
            "updating: Output/RandomSamples/desert./gen_start_scale=0/7.png (deflated 0%)\n",
            "updating: Output/RandomSamples/desert./gen_start_scale=0/30.png (deflated 0%)\n",
            "updating: Output/RandomSamples/desert./gen_start_scale=0/29.png (deflated 0%)\n",
            "updating: Output/RandomSamples/desert./gen_start_scale=0/47.png (deflated 0%)\n",
            "updating: Output/RandomSamples/desert./gen_start_scale=0/31.png (deflated 0%)\n",
            "updating: Output/RandomSamples/desert./gen_start_scale=0/36.png (deflated 0%)\n",
            "updating: Output/RandomSamples/desert./gen_start_scale=0/26.png (deflated 0%)\n",
            "updating: Output/RandomSamples/desert./gen_start_scale=0/48.png (deflated 0%)\n",
            "updating: Output/RandomSamples/desert./gen_start_scale=0/13.png (deflated 0%)\n",
            "updating: Output/RandomSamples/desert./gen_start_scale=0/34.png (deflated 0%)\n",
            "updating: Output/RandomSamples/desert./gen_start_scale=0/28.png (deflated 0%)\n",
            "updating: Output/RandomSamples/desert./gen_start_scale=0/35.png (deflated 0%)\n",
            "updating: Output/RandomSamples/desert./gen_start_scale=0/14.png (deflated 0%)\n",
            "updating: Output/RandomSamples/desert./gen_start_scale=0/1.png (deflated 0%)\n",
            "updating: Output/RandomSamples/desert./gen_start_scale=0/12.png (deflated 0%)\n",
            "updating: Output/RandomSamples/desert./gen_start_scale=0/23.png (deflated 0%)\n",
            "updating: Output/RandomSamples/desert./gen_start_scale=0/6.png (deflated 0%)\n",
            "updating: Output/RandomSamples/desert./gen_start_scale=0/33.png (deflated 0%)\n",
            "updating: Output/RandomSamples/desert./gen_start_scale=0/40.png (deflated 0%)\n",
            "updating: Output/RandomSamples/desert./gen_start_scale=0/41.png (deflated 0%)\n",
            "updating: Output/RandomSamples/desert./gen_start_scale=0/20.png (deflated 0%)\n",
            "updating: Output/RandomSamples/desert./gen_start_scale=0/21.png (deflated 0%)\n",
            "updating: Output/RandomSamples/desert./gen_start_scale=0/49.png (deflated 0%)\n",
            "updating: Output/RandomSamples/desert./gen_start_scale=0/11.png (deflated 0%)\n",
            "updating: Output/RandomSamples/desert./gen_start_scale=0/39.png (deflated 0%)\n",
            "updating: Output/RandomSamples/desert./gen_start_scale=0/38.png (deflated 0%)\n",
            "updating: Output/RandomSamples/desert./gen_start_scale=0/16.png (deflated 0%)\n",
            "updating: Output/RandomSamples/desert./gen_start_scale=0/42.png (deflated 0%)\n",
            "updating: Output/RandomSamples/desert./gen_start_scale=0/0.png (deflated 0%)\n",
            "updating: Output/RandomSamples/desert./gen_start_scale=0/9.png (deflated 0%)\n",
            "updating: Output/RandomSamples/desert./gen_start_scale=0/18.png (deflated 0%)\n",
            "updating: Output/RandomSamples/desert./gen_start_scale=0/8.png (deflated 0%)\n",
            "updating: Output/RandomSamples/desert./gen_start_scale=0/44.png (deflated 0%)\n",
            "updating: Output/RandomSamples/desert./gen_start_scale=0/10.png (deflated 0%)\n",
            "updating: Output/RandomSamples/desert./gen_start_scale=0/22.png (deflated 0%)\n",
            "updating: Output/RandomSamples/desert./gen_start_scale=0/46.png (deflated 0%)\n",
            "updating: Output/RandomSamples/desert./gen_start_scale=0/2.png (deflated 0%)\n",
            "updating: Output/RandomSamples/desert./gen_start_scale=0/15.png (deflated 0%)\n",
            "updating: Output/RandomSamples/desert./gen_start_scale=0/27.png (deflated 0%)\n",
            "  adding: Output/Paint2image/ (stored 0%)\n",
            "  adding: Output/Paint2image/desert./ (stored 0%)\n",
            "  adding: Output/Paint2image/desert./desert_out/ (stored 0%)\n",
            "  adding: Output/Paint2image/desert./desert_out/start_scale=2.png (deflated 0%)\n",
            "updating: TrainedModels/ (stored 0%)\n",
            "updating: TrainedModels/desert./ (stored 0%)\n",
            "updating: TrainedModels/desert./scale_factor=0.750000,alpha=10/ (stored 0%)\n",
            "updating: TrainedModels/desert./scale_factor=0.750000,alpha=10/Gs.pth (deflated 9%)\n",
            "updating: TrainedModels/desert./scale_factor=0.750000,alpha=10/2/ (stored 0%)\n",
            "updating: TrainedModels/desert./scale_factor=0.750000,alpha=10/2/G(z_opt).png (stored 0%)\n",
            "updating: TrainedModels/desert./scale_factor=0.750000,alpha=10/2/netG.pth (deflated 9%)\n",
            "updating: TrainedModels/desert./scale_factor=0.750000,alpha=10/2/netD.pth (deflated 9%)\n",
            "updating: TrainedModels/desert./scale_factor=0.750000,alpha=10/2/real_scale.png (stored 0%)\n",
            "updating: TrainedModels/desert./scale_factor=0.750000,alpha=10/2/fake_sample.png (stored 0%)\n",
            "updating: TrainedModels/desert./scale_factor=0.750000,alpha=10/2/z_opt.pth (deflated 99%)\n",
            "updating: TrainedModels/desert./scale_factor=0.750000,alpha=10/5/ (stored 0%)\n",
            "updating: TrainedModels/desert./scale_factor=0.750000,alpha=10/5/G(z_opt).png (stored 0%)\n",
            "updating: TrainedModels/desert./scale_factor=0.750000,alpha=10/5/netG.pth (deflated 8%)\n",
            "updating: TrainedModels/desert./scale_factor=0.750000,alpha=10/5/netD.pth (deflated 8%)\n",
            "updating: TrainedModels/desert./scale_factor=0.750000,alpha=10/5/real_scale.png (stored 0%)\n",
            "updating: TrainedModels/desert./scale_factor=0.750000,alpha=10/5/fake_sample.png (stored 0%)\n",
            "updating: TrainedModels/desert./scale_factor=0.750000,alpha=10/5/z_opt.pth (deflated 100%)\n",
            "updating: TrainedModels/desert./scale_factor=0.750000,alpha=10/NoiseAmp.pth (deflated 45%)\n",
            "updating: TrainedModels/desert./scale_factor=0.750000,alpha=10/6/ (stored 0%)\n",
            "updating: TrainedModels/desert./scale_factor=0.750000,alpha=10/6/G(z_opt).png (stored 0%)\n",
            "updating: TrainedModels/desert./scale_factor=0.750000,alpha=10/6/netG.pth (deflated 8%)\n",
            "updating: TrainedModels/desert./scale_factor=0.750000,alpha=10/6/netD.pth (deflated 8%)\n",
            "updating: TrainedModels/desert./scale_factor=0.750000,alpha=10/6/real_scale.png (stored 0%)\n",
            "updating: TrainedModels/desert./scale_factor=0.750000,alpha=10/6/fake_sample.png (deflated 0%)\n",
            "updating: TrainedModels/desert./scale_factor=0.750000,alpha=10/6/z_opt.pth (deflated 100%)\n",
            "updating: TrainedModels/desert./scale_factor=0.750000,alpha=10/reals.pth (deflated 49%)\n",
            "updating: TrainedModels/desert./scale_factor=0.750000,alpha=10/Zs.pth (deflated 100%)\n",
            "updating: TrainedModels/desert./scale_factor=0.750000,alpha=10/0/ (stored 0%)\n",
            "updating: TrainedModels/desert./scale_factor=0.750000,alpha=10/0/G(z_opt).png (stored 0%)\n",
            "updating: TrainedModels/desert./scale_factor=0.750000,alpha=10/0/netG.pth (deflated 9%)\n",
            "updating: TrainedModels/desert./scale_factor=0.750000,alpha=10/0/netD.pth (deflated 9%)\n",
            "updating: TrainedModels/desert./scale_factor=0.750000,alpha=10/0/real_scale.png (stored 0%)\n",
            "updating: TrainedModels/desert./scale_factor=0.750000,alpha=10/0/fake_sample.png (stored 0%)\n",
            "updating: TrainedModels/desert./scale_factor=0.750000,alpha=10/0/z_opt.pth (deflated 80%)\n",
            "updating: TrainedModels/desert./scale_factor=0.750000,alpha=10/3/ (stored 0%)\n",
            "updating: TrainedModels/desert./scale_factor=0.750000,alpha=10/3/G(z_opt).png (stored 0%)\n",
            "updating: TrainedModels/desert./scale_factor=0.750000,alpha=10/3/netG.pth (deflated 9%)\n",
            "updating: TrainedModels/desert./scale_factor=0.750000,alpha=10/3/netD.pth (deflated 9%)\n",
            "updating: TrainedModels/desert./scale_factor=0.750000,alpha=10/3/real_scale.png (stored 0%)\n",
            "updating: TrainedModels/desert./scale_factor=0.750000,alpha=10/3/fake_sample.png (stored 0%)\n",
            "updating: TrainedModels/desert./scale_factor=0.750000,alpha=10/3/z_opt.pth (deflated 99%)\n",
            "updating: TrainedModels/desert./scale_factor=0.750000,alpha=10/1/ (stored 0%)\n",
            "updating: TrainedModels/desert./scale_factor=0.750000,alpha=10/1/G(z_opt).png (stored 0%)\n",
            "updating: TrainedModels/desert./scale_factor=0.750000,alpha=10/1/netG.pth (deflated 9%)\n",
            "updating: TrainedModels/desert./scale_factor=0.750000,alpha=10/1/netD.pth (deflated 9%)\n",
            "updating: TrainedModels/desert./scale_factor=0.750000,alpha=10/1/real_scale.png (stored 0%)\n",
            "updating: TrainedModels/desert./scale_factor=0.750000,alpha=10/1/fake_sample.png (stored 0%)\n",
            "updating: TrainedModels/desert./scale_factor=0.750000,alpha=10/1/z_opt.pth (deflated 99%)\n",
            "updating: TrainedModels/desert./scale_factor=0.750000,alpha=10/7/ (stored 0%)\n",
            "updating: TrainedModels/desert./scale_factor=0.750000,alpha=10/7/G(z_opt).png (deflated 0%)\n",
            "updating: TrainedModels/desert./scale_factor=0.750000,alpha=10/7/netG.pth (deflated 8%)\n",
            "updating: TrainedModels/desert./scale_factor=0.750000,alpha=10/7/netD.pth (deflated 8%)\n",
            "updating: TrainedModels/desert./scale_factor=0.750000,alpha=10/7/real_scale.png (deflated 0%)\n",
            "updating: TrainedModels/desert./scale_factor=0.750000,alpha=10/7/fake_sample.png (deflated 0%)\n",
            "updating: TrainedModels/desert./scale_factor=0.750000,alpha=10/7/z_opt.pth (deflated 100%)\n",
            "updating: TrainedModels/desert./scale_factor=0.750000,alpha=10/4/ (stored 0%)\n",
            "updating: TrainedModels/desert./scale_factor=0.750000,alpha=10/4/G(z_opt).png (stored 0%)\n",
            "updating: TrainedModels/desert./scale_factor=0.750000,alpha=10/4/netG.pth (deflated 8%)\n",
            "updating: TrainedModels/desert./scale_factor=0.750000,alpha=10/4/netD.pth (deflated 8%)\n",
            "updating: TrainedModels/desert./scale_factor=0.750000,alpha=10/4/real_scale.png (stored 0%)\n",
            "updating: TrainedModels/desert./scale_factor=0.750000,alpha=10/4/fake_sample.png (stored 0%)\n",
            "updating: TrainedModels/desert./scale_factor=0.750000,alpha=10/4/z_opt.pth (deflated 100%)\n"
          ],
          "name": "stdout"
        }
      ]
    },
    {
      "cell_type": "code",
      "metadata": {
        "colab": {
          "base_uri": "https://localhost:8080/",
          "height": 17
        },
        "id": "ZzC48-tJRlRp",
        "outputId": "98fd765b-92b6-4682-9c83-86f38f958c8a"
      },
      "source": [
        "files.download(\"Output.zip\")"
      ],
      "execution_count": null,
      "outputs": [
        {
          "output_type": "display_data",
          "data": {
            "application/javascript": [
              "\n",
              "    async function download(id, filename, size) {\n",
              "      if (!google.colab.kernel.accessAllowed) {\n",
              "        return;\n",
              "      }\n",
              "      const div = document.createElement('div');\n",
              "      const label = document.createElement('label');\n",
              "      label.textContent = `Downloading \"${filename}\": `;\n",
              "      div.appendChild(label);\n",
              "      const progress = document.createElement('progress');\n",
              "      progress.max = size;\n",
              "      div.appendChild(progress);\n",
              "      document.body.appendChild(div);\n",
              "\n",
              "      const buffers = [];\n",
              "      let downloaded = 0;\n",
              "\n",
              "      const channel = await google.colab.kernel.comms.open(id);\n",
              "      // Send a message to notify the kernel that we're ready.\n",
              "      channel.send({})\n",
              "\n",
              "      for await (const message of channel.messages) {\n",
              "        // Send a message to notify the kernel that we're ready.\n",
              "        channel.send({})\n",
              "        if (message.buffers) {\n",
              "          for (const buffer of message.buffers) {\n",
              "            buffers.push(buffer);\n",
              "            downloaded += buffer.byteLength;\n",
              "            progress.value = downloaded;\n",
              "          }\n",
              "        }\n",
              "      }\n",
              "      const blob = new Blob(buffers, {type: 'application/binary'});\n",
              "      const a = document.createElement('a');\n",
              "      a.href = window.URL.createObjectURL(blob);\n",
              "      a.download = filename;\n",
              "      div.appendChild(a);\n",
              "      a.click();\n",
              "      div.remove();\n",
              "    }\n",
              "  "
            ],
            "text/plain": [
              "<IPython.core.display.Javascript object>"
            ]
          },
          "metadata": {
            "tags": []
          }
        },
        {
          "output_type": "display_data",
          "data": {
            "application/javascript": [
              "download(\"download_1cae616e-bd96-4da3-895e-ebb2d575a29e\", \"Output.zip\", 3053701)"
            ],
            "text/plain": [
              "<IPython.core.display.Javascript object>"
            ]
          },
          "metadata": {
            "tags": []
          }
        }
      ]
    },
    {
      "cell_type": "code",
      "metadata": {
        "colab": {
          "base_uri": "https://localhost:8080/",
          "height": 17
        },
        "id": "gN0UHLObSClW",
        "outputId": "fb6a0353-055c-4815-9546-48973aebfee2"
      },
      "source": [
        "files.download(\"TrainedModels.zip\")"
      ],
      "execution_count": null,
      "outputs": [
        {
          "output_type": "display_data",
          "data": {
            "application/javascript": [
              "\n",
              "    async function download(id, filename, size) {\n",
              "      if (!google.colab.kernel.accessAllowed) {\n",
              "        return;\n",
              "      }\n",
              "      const div = document.createElement('div');\n",
              "      const label = document.createElement('label');\n",
              "      label.textContent = `Downloading \"${filename}\": `;\n",
              "      div.appendChild(label);\n",
              "      const progress = document.createElement('progress');\n",
              "      progress.max = size;\n",
              "      div.appendChild(progress);\n",
              "      document.body.appendChild(div);\n",
              "\n",
              "      const buffers = [];\n",
              "      let downloaded = 0;\n",
              "\n",
              "      const channel = await google.colab.kernel.comms.open(id);\n",
              "      // Send a message to notify the kernel that we're ready.\n",
              "      channel.send({})\n",
              "\n",
              "      for await (const message of channel.messages) {\n",
              "        // Send a message to notify the kernel that we're ready.\n",
              "        channel.send({})\n",
              "        if (message.buffers) {\n",
              "          for (const buffer of message.buffers) {\n",
              "            buffers.push(buffer);\n",
              "            downloaded += buffer.byteLength;\n",
              "            progress.value = downloaded;\n",
              "          }\n",
              "        }\n",
              "      }\n",
              "      const blob = new Blob(buffers, {type: 'application/binary'});\n",
              "      const a = document.createElement('a');\n",
              "      a.href = window.URL.createObjectURL(blob);\n",
              "      a.download = filename;\n",
              "      div.appendChild(a);\n",
              "      a.click();\n",
              "      div.remove();\n",
              "    }\n",
              "  "
            ],
            "text/plain": [
              "<IPython.core.display.Javascript object>"
            ]
          },
          "metadata": {
            "tags": []
          }
        },
        {
          "output_type": "display_data",
          "data": {
            "application/javascript": [
              "download(\"download_15b886ba-56de-473b-8da8-973bf6021071\", \"TrainedModels.zip\", 7554107)"
            ],
            "text/plain": [
              "<IPython.core.display.Javascript object>"
            ]
          },
          "metadata": {
            "tags": []
          }
        }
      ]
    }
  ]
}